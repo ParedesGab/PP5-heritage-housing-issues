{
  "cells": [
    {
      "cell_type": "markdown",
      "metadata": {
        "id": "0aStgWSO0E0E"
      },
      "source": [
        "# **House Sales Price Study**"
      ]
    },
    {
      "cell_type": "markdown",
      "metadata": {},
      "source": [
        "<br>"
      ]
    },
    {
      "cell_type": "markdown",
      "metadata": {
        "id": "1eLEkw5O0ECa"
      },
      "source": [
        "## Objectives\n",
        "\n",
        "* Answer business requirement 1:\n",
        "  * The client is interested to identify the house variables most strongly correlated with sale price.\n",
        "\n",
        "## Inputs\n",
        "\n",
        "* outputs/datasets/collection/house_prices_after_inspection.csv\n",
        "\n",
        "## Outputs\n",
        "\n",
        "* Generate code that answers business requirement 1 and can be used to build the Streamlit App"
      ]
    },
    {
      "cell_type": "markdown",
      "metadata": {
        "id": "9uWZXH9LwoQg"
      },
      "source": [
        "---"
      ]
    },
    {
      "cell_type": "markdown",
      "metadata": {
        "id": "cqP-UeN-z3i2"
      },
      "source": [
        "# Change working directory to the parent folder"
      ]
    },
    {
      "cell_type": "markdown",
      "metadata": {
        "id": "aOGIGS-uz3i2"
      },
      "source": [
        "Access the current directory with os.getcwd()"
      ]
    },
    {
      "cell_type": "code",
      "execution_count": null,
      "metadata": {
        "id": "wZfF_j-Bz3i4",
        "outputId": "66943449-1436-4c3d-85c7-b85f9f78349b"
      },
      "outputs": [],
      "source": [
        "import os\n",
        "current_dir = os.getcwd()\n",
        "current_dir"
      ]
    },
    {
      "cell_type": "markdown",
      "metadata": {
        "id": "9MWW8E7lz3i7"
      },
      "source": [
        "Make the parent of the current directory the new current directory\n",
        "* os.path.dirname() gets the parent directory\n",
        "* os.chir() defines the new current directory"
      ]
    },
    {
      "cell_type": "code",
      "execution_count": null,
      "metadata": {
        "id": "TwHsQRWjz3i9",
        "outputId": "86849db3-cd2f-4cc5-ebb8-2d0caafa1a2c"
      },
      "outputs": [],
      "source": [
        "os.chdir(os.path.dirname(current_dir))\n",
        "print(\"You set a new current directory\")"
      ]
    },
    {
      "cell_type": "markdown",
      "metadata": {
        "id": "M_xPk_Ijz3i-"
      },
      "source": [
        "Confirm the new current directory"
      ]
    },
    {
      "cell_type": "code",
      "execution_count": null,
      "metadata": {
        "id": "vz3S-_kjz3jA",
        "outputId": "00b79ae4-75d0-4a96-d193-ac9ef9847ea2"
      },
      "outputs": [],
      "source": [
        "current_dir = os.getcwd()\n",
        "current_dir"
      ]
    },
    {
      "cell_type": "markdown",
      "metadata": {
        "id": "-mavJ8DibrcQ"
      },
      "source": [
        "# Load the Data"
      ]
    },
    {
      "cell_type": "code",
      "execution_count": null,
      "metadata": {},
      "outputs": [],
      "source": [
        "import pandas as pd\n",
        "df = pd.read_csv(\"outputs/datasets/collection/house_prices_after_inspection.csv\")\n",
        "#df.head()\n",
        "df.tail()"
      ]
    },
    {
      "cell_type": "code",
      "execution_count": null,
      "metadata": {},
      "outputs": [],
      "source": [
        "df_house_price_study = df.copy()\n",
        "df_house_price_study.tail()"
      ]
    },
    {
      "cell_type": "markdown",
      "metadata": {},
      "source": [
        "# Create a profile report for quick Exploratory Data Analysis (EDA)"
      ]
    },
    {
      "cell_type": "code",
      "execution_count": null,
      "metadata": {},
      "outputs": [],
      "source": [
        "from ydata_profiling import ProfileReport\n",
        "profile_report= ProfileReport(df=df_house_price_study, minimal=True)\n",
        "#profile_report\n",
        "#profile_report.to_notebook_iframe()"
      ]
    },
    {
      "cell_type": "markdown",
      "metadata": {},
      "source": [
        "## EDA Observations"
      ]
    },
    {
      "cell_type": "markdown",
      "metadata": {},
      "source": [
        "* This dataset hast a predominance for numerical variables.\n",
        "* Only 4 variables are categorical: BsmtExposure, BsmtFinType1, GarageFinish and KitchenQual.\n",
        "* The 4 categorical variables are imbalanced.\n",
        "* Several variables have missing values and zeros.\n",
        "* Most numerical variables seem to be not normally distributed. "
      ]
    },
    {
      "cell_type": "markdown",
      "metadata": {},
      "source": [
        "# Handle Missing Values (NaN)"
      ]
    },
    {
      "cell_type": "markdown",
      "metadata": {},
      "source": [
        "* Handle missing data before performing correlation analysis"
      ]
    },
    {
      "cell_type": "markdown",
      "metadata": {},
      "source": [
        "Step 1: Confirm the variables with missing values"
      ]
    },
    {
      "cell_type": "code",
      "execution_count": null,
      "metadata": {},
      "outputs": [],
      "source": [
        "df_house_price_study.isnull().sum().to_frame(name=\"Is Null\")"
      ]
    },
    {
      "cell_type": "markdown",
      "metadata": {},
      "source": [
        "Step 2: Categorical variables -> Handle their missing data"
      ]
    },
    {
      "cell_type": "markdown",
      "metadata": {},
      "source": [
        "* Retrieve the categorical variables"
      ]
    },
    {
      "cell_type": "code",
      "execution_count": null,
      "metadata": {},
      "outputs": [],
      "source": [
        "categorical_variables = df_house_price_study.select_dtypes(include='object').columns.to_list()\n",
        "categorical_variables"
      ]
    },
    {
      "cell_type": "markdown",
      "metadata": {},
      "source": [
        "* Assess the frequency of their values"
      ]
    },
    {
      "cell_type": "code",
      "execution_count": null,
      "metadata": {},
      "outputs": [],
      "source": [
        "for col in categorical_variables:\n",
        "    print(df_house_price_study[col].value_counts())"
      ]
    },
    {
      "cell_type": "markdown",
      "metadata": {},
      "source": [
        "* Perform Categorical Imputation: Replace missing values for the categorical variables with the word \"Missing\""
      ]
    },
    {
      "cell_type": "code",
      "execution_count": null,
      "metadata": {},
      "outputs": [],
      "source": [
        "from feature_engine.imputation import CategoricalImputer\n",
        "categorical_imputer= CategoricalImputer(imputation_method='missing',\n",
        "                                                  fill_value='Missing',\n",
        "                                                  variables=categorical_variables)\n",
        "df_categ_imputed =categorical_imputer.fit_transform(df_house_price_study)"
      ]
    },
    {
      "cell_type": "markdown",
      "metadata": {},
      "source": [
        "* Confirm that the categorical variables do not have misssing values "
      ]
    },
    {
      "cell_type": "code",
      "execution_count": null,
      "metadata": {},
      "outputs": [],
      "source": [
        "df_categ_imputed[categorical_variables].isnull().sum().to_frame(name=\"Is Null\")"
      ]
    },
    {
      "cell_type": "markdown",
      "metadata": {},
      "source": [
        "* Assess the frequency of their values now including the \"Missing\" category"
      ]
    },
    {
      "cell_type": "code",
      "execution_count": null,
      "metadata": {},
      "outputs": [],
      "source": [
        "for col in categorical_variables:\n",
        "    print(df_categ_imputed[col].value_counts())"
      ]
    },
    {
      "cell_type": "code",
      "execution_count": null,
      "metadata": {},
      "outputs": [],
      "source": [
        "profile_report_categ = ProfileReport(df=df_categ_imputed, minimal=True)\n",
        "#profile_report_categ.to_notebook_iframe()"
      ]
    },
    {
      "cell_type": "markdown",
      "metadata": {},
      "source": [
        "Step 3: Numerical variables -> Handle their missing data as well"
      ]
    },
    {
      "cell_type": "markdown",
      "metadata": {},
      "source": [
        "* Check normality (based on the results below, the numerical variables are not normally distributed)"
      ]
    },
    {
      "cell_type": "code",
      "execution_count": null,
      "metadata": {},
      "outputs": [],
      "source": [
        "import pingouin as pg\n",
        "pg.normality(data=df_categ_imputed, alpha = 0.05)"
      ]
    },
    {
      "cell_type": "code",
      "execution_count": null,
      "metadata": {},
      "outputs": [],
      "source": [
        "numerical_variables = df_categ_imputed.select_dtypes(include=\"number\").columns\n",
        "print(len(numerical_variables))"
      ]
    },
    {
      "cell_type": "code",
      "execution_count": null,
      "metadata": {},
      "outputs": [],
      "source": [
        "import seaborn as sns\n",
        "import matplotlib.pyplot as plt\n",
        "sns.set_style('whitegrid')\n",
        "\n",
        "def DistributionPlot(n_cols, numerical_variables, df):\n",
        "    n_rows = (len(numerical_variables) + n_cols - 1) // n_cols\n",
        "\n",
        "    # Create the figure and subplots grid\n",
        "    fig, axes = plt.subplots(n_rows, n_cols, figsize=(n_cols * 5, n_rows * 4))\n",
        "\n",
        "    # Flatten the axes array if there's more than one row/column\n",
        "    axes = axes.flatten()\n",
        "\n",
        "    # Iterate through columns and plot on respective axes\n",
        "    for i, col in enumerate(numerical_variables):\n",
        "        sns.histplot(data=df, x=col, kde=True, ax=axes[i]) \n",
        "        axes[i].set_title(f'Distribution of {col}')\n",
        "\n",
        "    # Remove unused subplots\n",
        "    for j in range(len(numerical_variables), len(axes)):\n",
        "        fig.delaxes(axes[j])\n",
        "\n",
        "    # Prevent titles from overlapping\n",
        "    plt.tight_layout()\n",
        "\n",
        "    plt.show()\n"
      ]
    },
    {
      "cell_type": "code",
      "execution_count": null,
      "metadata": {},
      "outputs": [],
      "source": [
        "DistributionPlot(n_cols =5, numerical_variables = numerical_variables,\n",
        "                  df = df_categ_imputed)\n"
      ]
    },
    {
      "cell_type": "markdown",
      "metadata": {},
      "source": [
        "* Retrieve the numerical variables as a list"
      ]
    },
    {
      "cell_type": "code",
      "execution_count": null,
      "metadata": {},
      "outputs": [],
      "source": [
        "numerical_variables = df_categ_imputed.select_dtypes(include=\"number\").columns.to_list()\n",
        "numerical_variables"
      ]
    },
    {
      "cell_type": "markdown",
      "metadata": {},
      "source": [
        "* Perform Median Imputation: Replace missing values for the numerical variables with the median value of the variable"
      ]
    },
    {
      "cell_type": "code",
      "execution_count": null,
      "metadata": {},
      "outputs": [],
      "source": [
        "from feature_engine.imputation import MeanMedianImputer\n",
        "numerical_imputer = MeanMedianImputer(imputation_method='median',\n",
        "                            variables= numerical_variables)\n",
        "\n",
        "df_categ_and_numb_imputed = numerical_imputer.fit_transform(df_categ_imputed)\n"
      ]
    },
    {
      "cell_type": "markdown",
      "metadata": {},
      "source": [
        "* Confirm that all variables do not have misssing values "
      ]
    },
    {
      "cell_type": "code",
      "execution_count": null,
      "metadata": {},
      "outputs": [],
      "source": [
        "df_categ_and_numb_imputed.isnull().sum().to_frame(name=\"Is Null\")"
      ]
    },
    {
      "cell_type": "markdown",
      "metadata": {},
      "source": [
        "* Check once again their distribution (the numerical variables are still not normally distributed)"
      ]
    },
    {
      "cell_type": "code",
      "execution_count": null,
      "metadata": {},
      "outputs": [],
      "source": [
        "DistributionPlot(n_cols =5, numerical_variables = numerical_variables,\n",
        "                  df = df_categ_and_numb_imputed)\n",
        "\n",
        "pg.normality(data=df_categ_and_numb_imputed, alpha = 0.05)"
      ]
    },
    {
      "cell_type": "markdown",
      "metadata": {},
      "source": [
        "#### Summary of Handling Missing Values for Correlation analysis"
      ]
    },
    {
      "cell_type": "markdown",
      "metadata": {},
      "source": [
        "* Both categorical and numerical variables have now no missing values.\n",
        "* For the categorical variables, the proportion of missing values is not so high as to warrant dropping any of them. \n",
        "* Given that only a single categorical variable (BsmtExposure) presented a low degree of *missingness*, the strategy of imputing 'Missing' values with the most frequent category is at the moment not being considered.\n"
      ]
    },
    {
      "cell_type": "markdown",
      "metadata": {},
      "source": [
        "<br>"
      ]
    },
    {
      "cell_type": "markdown",
      "metadata": {},
      "source": [
        "# Correlation Study: Pearson and Spearman"
      ]
    },
    {
      "cell_type": "markdown",
      "metadata": {},
      "source": [
        "**Goal:** identify how the target (SalesPrice) correlate to the variables, and retrieve the top 5 correlation variables for SalesPrice."
      ]
    },
    {
      "cell_type": "markdown",
      "metadata": {},
      "source": [
        "Step 1: Transform categorical variables to numerical variables using one hot encoding.\n",
        "\n",
        "* This step is performed because Spearman and Peason methods need numeric variables."
      ]
    },
    {
      "cell_type": "code",
      "execution_count": null,
      "metadata": {},
      "outputs": [],
      "source": [
        "from feature_engine.encoding import OneHotEncoder\n",
        "one_hot_encoder = OneHotEncoder(variables=df_categ_and_numb_imputed.select_dtypes(include='object').columns.to_list(), drop_last=False)\n",
        "df_ohe = one_hot_encoder.fit_transform(df_categ_and_numb_imputed)\n",
        "df_ohe.head()"
      ]
    },
    {
      "cell_type": "markdown",
      "metadata": {},
      "source": [
        "Step 2: Evaluate if One Hot Encoding worked\n",
        "\n",
        "* OHE worked because the code below shows that the dataset has no longer categorical variables"
      ]
    },
    {
      "cell_type": "code",
      "execution_count": null,
      "metadata": {},
      "outputs": [],
      "source": [
        "categorical_variables = df_ohe.select_dtypes(include='object').columns.to_list()\n",
        "categorical_variables"
      ]
    },
    {
      "cell_type": "markdown",
      "metadata": {},
      "source": [
        "Step 3: Perform Pearson\n",
        "\n",
        "* Retrieve the top 10 correlated variables/features against the target SalePrice."
      ]
    },
    {
      "cell_type": "code",
      "execution_count": null,
      "metadata": {},
      "outputs": [],
      "source": [
        "corr_pearson_top10 = df_ohe.corr(method='pearson', numeric_only=True)['SalePrice'].sort_values(key=abs, ascending=False)[1:].head(10).to_frame(name=\"Correlation Coefficient\")\n",
        "corr_pearson_top10"
      ]
    },
    {
      "cell_type": "markdown",
      "metadata": {},
      "source": [
        "Step 3: Perform Spearman\n",
        "\n",
        "* Retrieve the top 10 correlated variables/features against the target SalePrice."
      ]
    },
    {
      "cell_type": "code",
      "execution_count": null,
      "metadata": {},
      "outputs": [],
      "source": [
        "corr_spearman_top10 = df_ohe.corr(method='spearman', numeric_only=True)['SalePrice'].sort_values(key=abs, ascending=False)[1:].head(10).to_frame(name=\"Correlation Coefficient\")\n",
        "corr_spearman_top10"
      ]
    },
    {
      "cell_type": "markdown",
      "metadata": {},
      "source": [
        "Step 4: Get the top 5 combined features of Pearson and Spearman"
      ]
    },
    {
      "cell_type": "code",
      "execution_count": null,
      "metadata": {},
      "outputs": [],
      "source": [
        "combined_top_features = set(corr_pearson_top10[:5].index.to_list() + corr_spearman_top10[:5].index.to_list())\n",
        "combined_top_features"
      ]
    },
    {
      "cell_type": "markdown",
      "metadata": {},
      "source": [
        "Therefore we will study if:\n",
        "\n",
        "* The sale price tends to increase as the first floor square footage increases.\n",
        "* The sale price tends to increase as the size of the garage increases.\n",
        "* The sale price tends to increase as the above-grade living area increases.\n",
        "* The sale price tends to increase as the overall house material and finish of the house improves.\n",
        "* The sale price tends to increase as the total square feet of basement area increases.\n",
        "* The sale price tends to increase with newer construction dates  "
      ]
    },
    {
      "cell_type": "code",
      "execution_count": null,
      "metadata": {},
      "outputs": [],
      "source": [
        "vars_to_study = ['1stFlrSF', 'GarageArea', 'GrLivArea', 'OverallQual', 'TotalBsmtSF', 'YearBuilt']\n",
        "vars_to_study"
      ]
    },
    {
      "cell_type": "markdown",
      "metadata": {},
      "source": [
        "#### Summary of Pearson and Spearman "
      ]
    },
    {
      "cell_type": "markdown",
      "metadata": {},
      "source": [
        "* For both methods we observe from moderate to very strong correlations between the Sale Price and a given variable to study."
      ]
    },
    {
      "cell_type": "markdown",
      "metadata": {},
      "source": [
        "<br>"
      ]
    },
    {
      "cell_type": "markdown",
      "metadata": {},
      "source": [
        "# EDA on variables to study"
      ]
    },
    {
      "cell_type": "markdown",
      "metadata": {},
      "source": [
        "Step 1: Create a dataframe with the variables to study and the target (SalePrice)"
      ]
    },
    {
      "cell_type": "code",
      "execution_count": null,
      "metadata": {},
      "outputs": [],
      "source": [
        "df_eda_subset = df_house_price_study.filter(vars_to_study + [\"SalePrice\"])\n",
        "df_eda_subset.head()"
      ]
    },
    {
      "cell_type": "markdown",
      "metadata": {},
      "source": [
        "Step 2: Plot their variable distribution\n",
        "\n",
        "* The target variable (SalePrice) is numeric.\n",
        "* Thus, to visualize the distribution for categorical variables the choice is a boxplot and for numerical variables a scatter plot."
      ]
    },
    {
      "cell_type": "code",
      "execution_count": null,
      "metadata": {},
      "outputs": [],
      "source": [
        "sns.set_style('whitegrid')\n",
        "\n",
        "# %matplotlib inline\n",
        "\n",
        "def plot_categorical(df, col, target_var):\n",
        "\n",
        "    plt.figure(figsize=(12, 5))\n",
        "    sns.boxplot(data=df, x=col, y=target_var)\n",
        "    plt.xticks(rotation=90)\n",
        "    plt.title(f\"{col}\", fontsize=20, y=1.05)\n",
        "    plt.show()\n",
        "    plt.close()\n",
        "\n",
        "def plot_numerical_vs_continuous(df, col, target_var):\n",
        "    plt.figure(figsize=(10, 6))\n",
        "\n",
        "    sns.scatterplot(data=df, x=col, y=target_var, alpha=0.6)\n",
        "    sns.regplot(data=df, x=col, y=target_var, scatter=False, color='red', line_kws={'linestyle':'--'}) # Adds a regression line\n",
        "    plt.title(f'{col} vs. {target_var} (Scatter Plot with Regression Line)', fontsize=16)\n",
        "\n",
        "\n",
        "    plt.xlabel(col, fontsize=12)\n",
        "    plt.ylabel(target_var, fontsize=12)\n",
        "    plt.grid(True, linestyle='--', alpha=0.7)\n",
        "    plt.tight_layout()\n",
        "    plt.show()\n",
        "    plt.close()\n",
        "\n",
        "\n",
        "print(df_eda_subset.head())\n",
        "target_var = 'SalePrice'\n",
        "for col in vars_to_study:\n",
        "    if df_eda_subset[col].dtype == 'object':\n",
        "        plot_categorical(df_eda_subset, col, target_var)\n",
        "        print(\"\\n\\n\")\n",
        "    else:\n",
        "        plot_numerical_vs_continuous(df_eda_subset, col, target_var)\n",
        "        print(\"\\n\\n\")"
      ]
    },
    {
      "cell_type": "markdown",
      "metadata": {},
      "source": [
        "# Parallel Plot with numerical variables"
      ]
    },
    {
      "cell_type": "markdown",
      "metadata": {},
      "source": [
        "* Get a parallel plot.\n",
        "* As all variables are numerical, there is no need for transformation step(s)."
      ]
    },
    {
      "cell_type": "code",
      "execution_count": null,
      "metadata": {},
      "outputs": [],
      "source": [
        "import plotly.express as px\n",
        "fig = px.parallel_coordinates(df_eda_subset, color=\"SalePrice\",\n",
        "                              dimensions = vars_to_study,\n",
        "                              color_continuous_scale = 'Jet')\n",
        "fig.show()\n"
      ]
    },
    {
      "cell_type": "markdown",
      "metadata": {},
      "source": [
        "<br>"
      ]
    },
    {
      "cell_type": "markdown",
      "metadata": {
        "id": "uFQo3ycuO-v6"
      },
      "source": [
        "# Conclusions"
      ]
    },
    {
      "cell_type": "markdown",
      "metadata": {},
      "source": [
        "The correlations and plots interpretation converge.\n",
        "\n",
        "* Sale prices are typically higher for homes with larger first-floor square footage.\n",
        "* Sale prices are typically higher for homes with larger garages.\n",
        "* Sale prices are typically higher for homes with larger above-grade living areas.\n",
        "* Sale prices are typically higher when the overall quality of the house's materials and finish improves.\n",
        "* Sale prices are typically higher for homes with larger total basement area.\n",
        "* Sale prices are typically higher for homes that were recently constructed.   "
      ]
    }
  ],
  "metadata": {
    "accelerator": "GPU",
    "colab": {
      "name": "Data Practitioner Jupyter Notebook.ipynb",
      "provenance": [],
      "toc_visible": true
    },
    "kernelspec": {
      "display_name": "Python 3",
      "language": "python",
      "name": "python3"
    },
    "language_info": {
      "codemirror_mode": {
        "name": "ipython",
        "version": 3
      },
      "file_extension": ".py",
      "mimetype": "text/x-python",
      "name": "python",
      "nbconvert_exporter": "python",
      "pygments_lexer": "ipython3",
      "version": "3.12.1"
    },
    "orig_nbformat": 2
  },
  "nbformat": 4,
  "nbformat_minor": 2
}
