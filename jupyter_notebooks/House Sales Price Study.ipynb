{
  "cells": [
    {
      "cell_type": "markdown",
      "metadata": {
        "id": "0aStgWSO0E0E"
      },
      "source": [
        "# **House Sales Price Study**"
      ]
    },
    {
      "cell_type": "markdown",
      "metadata": {
        "id": "1eLEkw5O0ECa"
      },
      "source": [
        "## Objectives\n",
        "\n",
        "* Answer business requirement 1:\n",
        "  * The client is interested to understand the most relevant house variables correlate against the sale price.\n",
        "\n",
        "## Inputs\n",
        "\n",
        "* outputs/datasets/collection/house_prices_after_inspection.csv\n",
        "\n",
        "## Outputs\n",
        "\n",
        "* Generate code that answers business requirement 1 and can be used to build the Streamlit App\n",
        "\n",
        "## Additional Comments\n",
        "\n",
        "* Data derives from Kaggle but has been provided by CI \n"
      ]
    },
    {
      "cell_type": "markdown",
      "metadata": {
        "id": "9uWZXH9LwoQg"
      },
      "source": [
        "---"
      ]
    },
    {
      "cell_type": "markdown",
      "metadata": {
        "id": "cqP-UeN-z3i2"
      },
      "source": [
        "# Change working directory to the parent folder"
      ]
    },
    {
      "cell_type": "markdown",
      "metadata": {
        "id": "aOGIGS-uz3i2"
      },
      "source": [
        "Access the current directory with os.getcwd()"
      ]
    },
    {
      "cell_type": "code",
      "execution_count": null,
      "metadata": {
        "id": "wZfF_j-Bz3i4",
        "outputId": "66943449-1436-4c3d-85c7-b85f9f78349b"
      },
      "outputs": [],
      "source": [
        "import os\n",
        "current_dir = os.getcwd()\n",
        "current_dir"
      ]
    },
    {
      "cell_type": "markdown",
      "metadata": {
        "id": "9MWW8E7lz3i7"
      },
      "source": [
        "Make the parent of the current directory the new current directory\n",
        "* os.path.dirname() gets the parent directory\n",
        "* os.chir() defines the new current directory"
      ]
    },
    {
      "cell_type": "code",
      "execution_count": null,
      "metadata": {
        "id": "TwHsQRWjz3i9",
        "outputId": "86849db3-cd2f-4cc5-ebb8-2d0caafa1a2c"
      },
      "outputs": [],
      "source": [
        "os.chdir(os.path.dirname(current_dir))\n",
        "print(\"You set a new current directory\")"
      ]
    },
    {
      "cell_type": "markdown",
      "metadata": {
        "id": "M_xPk_Ijz3i-"
      },
      "source": [
        "Confirm the new current directory"
      ]
    },
    {
      "cell_type": "code",
      "execution_count": null,
      "metadata": {
        "id": "vz3S-_kjz3jA",
        "outputId": "00b79ae4-75d0-4a96-d193-ac9ef9847ea2"
      },
      "outputs": [],
      "source": [
        "current_dir = os.getcwd()\n",
        "current_dir"
      ]
    },
    {
      "cell_type": "markdown",
      "metadata": {
        "id": "-mavJ8DibrcQ"
      },
      "source": [
        "# Load the Data"
      ]
    },
    {
      "cell_type": "code",
      "execution_count": null,
      "metadata": {},
      "outputs": [],
      "source": [
        "import pandas as pd\n",
        "df = pd.read_csv(\"outputs/datasets/collection/house_prices_after_inspection.csv\")\n",
        "#df.head()\n",
        "df.tail()"
      ]
    },
    {
      "cell_type": "code",
      "execution_count": null,
      "metadata": {},
      "outputs": [],
      "source": [
        "df_house_price_study = df.copy()\n",
        "df_house_price_study.tail()"
      ]
    },
    {
      "cell_type": "markdown",
      "metadata": {},
      "source": [
        "# Create a profile report for quick Exploratory Data Analysis (EDA)"
      ]
    },
    {
      "cell_type": "code",
      "execution_count": null,
      "metadata": {},
      "outputs": [],
      "source": [
        "from ydata_profiling import ProfileReport\n",
        "profile_report= ProfileReport(df=df_house_price_study, minimal=True)\n",
        "#profile_report\n",
        "#profile_report.to_notebook_iframe()"
      ]
    },
    {
      "cell_type": "markdown",
      "metadata": {},
      "source": [
        "## EDA Observations"
      ]
    },
    {
      "cell_type": "markdown",
      "metadata": {},
      "source": [
        "* This dataset hast a predominance for numerical variables.\n",
        "* Only 4 variables are categorical: BsmtExposure, BsmtFinType1, GarageFinish, KitchenQual\n",
        "* The 4 categorical variables are imbalanced.\n",
        "* Several variables have missing values and zeros.\n",
        "* Most numerical variables seem to be not normally distributed. "
      ]
    },
    {
      "cell_type": "markdown",
      "metadata": {},
      "source": [
        "# Handle Missing Values (NaN)"
      ]
    },
    {
      "cell_type": "code",
      "execution_count": null,
      "metadata": {},
      "outputs": [],
      "source": [
        "df_house_price_study.isnull().sum().to_frame(name=\"Is Null\")"
      ]
    },
    {
      "cell_type": "code",
      "execution_count": null,
      "metadata": {},
      "outputs": [],
      "source": [
        "categorical_variables = df_house_price_study.select_dtypes(include='object').columns.to_list()\n",
        "categorical_variables"
      ]
    },
    {
      "cell_type": "code",
      "execution_count": null,
      "metadata": {},
      "outputs": [],
      "source": [
        "for col in categorical_variables:\n",
        "    print(df_house_price_study[col].value_counts())"
      ]
    },
    {
      "cell_type": "code",
      "execution_count": null,
      "metadata": {},
      "outputs": [],
      "source": [
        "from feature_engine.imputation import CategoricalImputer\n",
        "categorical_imputer= CategoricalImputer(imputation_method='missing',\n",
        "                                                  fill_value='Missing',\n",
        "                                                  variables=categorical_variables)\n",
        "df_categ_imputed =categorical_imputer.fit_transform(df_house_price_study)"
      ]
    },
    {
      "cell_type": "code",
      "execution_count": null,
      "metadata": {},
      "outputs": [],
      "source": [
        "df_categ_imputed[categorical_variables].isnull().sum().to_frame(name=\"Is Null\")"
      ]
    },
    {
      "cell_type": "code",
      "execution_count": null,
      "metadata": {},
      "outputs": [],
      "source": [
        "import pingouin as pg\n",
        "pg.normality(data=df_categ_imputed, alpha = 0.05) # check normality: They are all not normally distributed\n"
      ]
    },
    {
      "cell_type": "code",
      "execution_count": null,
      "metadata": {},
      "outputs": [],
      "source": [
        "import seaborn as sns\n",
        "import matplotlib.pyplot as plt\n",
        "sns.set_style('whitegrid')\n",
        "# for col in df.select_dtypes(include=\"number\").columns:\n",
        "  # sns.histplot(data=df, x=col, kde=True)\n",
        "  # plt.show()\n",
        "  # print('\\n')\n",
        "\n",
        "numerical_variables = df_categ_imputed.select_dtypes(include=\"number\").columns\n",
        "\n",
        "n_cols = 3\n",
        "n_rows = (len(numerical_variables) + n_cols - 1) // n_cols\n",
        "\n",
        "# Create the figure and subplots grid\n",
        "fig, axes = plt.subplots(n_rows, n_cols, figsize=(n_cols * 5, n_rows * 4))\n",
        "\n",
        "# Flatten the axes array if there's more than one row/column\n",
        "axes = axes.flatten()\n",
        "\n",
        "# Iterate through columns and plot on respective axes\n",
        "for i, col in enumerate(numerical_variables):\n",
        "    sns.histplot(data=df_categ_imputed, x=col, kde=True, ax=axes[i]) \n",
        "    axes[i].set_title(f'Distribution of {col}')\n",
        "\n",
        "# Remove unused subplots\n",
        "for j in range(len(numerical_variables), len(axes)):\n",
        "    fig.delaxes(axes[j])\n",
        "\n",
        "# Prevent titles/labels from overlapping\n",
        "plt.tight_layout()\n",
        "\n",
        "# Display all plots\n",
        "plt.show()\n"
      ]
    },
    {
      "cell_type": "code",
      "execution_count": null,
      "metadata": {},
      "outputs": [],
      "source": [
        "numerical_variables = df_categ_imputed.select_dtypes(include=\"number\").columns.to_list()\n",
        "numerical_variables"
      ]
    },
    {
      "cell_type": "code",
      "execution_count": null,
      "metadata": {},
      "outputs": [],
      "source": [
        "from feature_engine.imputation import MeanMedianImputer\n",
        "numerical_imputer = MeanMedianImputer(imputation_method='median',\n",
        "                            variables= numerical_variables)\n",
        "\n",
        "df_categ_and_numb_imputed = numerical_imputer.fit_transform(df_categ_imputed)\n"
      ]
    },
    {
      "cell_type": "code",
      "execution_count": null,
      "metadata": {},
      "outputs": [],
      "source": [
        "df_categ_and_numb_imputed.isnull().sum().to_frame(name=\"Is Null\")"
      ]
    },
    {
      "cell_type": "markdown",
      "metadata": {},
      "source": [
        "# Correlation Study: Pearson and Spearman"
      ]
    },
    {
      "cell_type": "markdown",
      "metadata": {},
      "source": [
        "**Goal:** identify how the target (SalesPrice) correlate to the variables, and retrieve the top 5 correlation variables for SalesPrice."
      ]
    },
    {
      "cell_type": "markdown",
      "metadata": {},
      "source": [
        "* Step 1: Handle M"
      ]
    },
    {
      "cell_type": "markdown",
      "metadata": {},
      "source": [
        "* Step 1: Since Spearman and Peason need numeric variables: transform categorical variables to numerical variables using one hot encoding."
      ]
    },
    {
      "cell_type": "code",
      "execution_count": null,
      "metadata": {},
      "outputs": [],
      "source": [
        "from feature_engine.encoding import OneHotEncoder\n",
        "one_hot_encoder = OneHotEncoder(variables=df_categ_and_numb_imputed.select_dtypes(include='object').columns.to_list(), drop_last=False)\n",
        "#one_hot_encoder = OneHotEncoder(variables=df.columns[df.dtypes=='object'].to_list(), drop_last=False)\n",
        "df_ohe = one_hot_encoder.fit_transform(df_categ_and_numb_imputed)\n",
        "df_ohe.head()"
      ]
    },
    {
      "cell_type": "markdown",
      "metadata": {},
      "source": [
        "### Evaluate if One Hot Encoding Worked"
      ]
    },
    {
      "cell_type": "code",
      "execution_count": null,
      "metadata": {},
      "outputs": [],
      "source": [
        "categorical_variables = df_ohe.select_dtypes(include='object').columns.to_list()\n",
        "categorical_variables"
      ]
    },
    {
      "cell_type": "markdown",
      "metadata": {},
      "source": [
        "# Correlation Study"
      ]
    },
    {
      "cell_type": "code",
      "execution_count": null,
      "metadata": {},
      "outputs": [],
      "source": [
        "corr_pearson_top10 = df_ohe.corr(method='pearson', numeric_only=True)['SalePrice'].sort_values(key=abs, ascending=False)[1:].head(10).to_frame(name=\"Correlation Coefficient\")\n",
        "corr_pearson_top10"
      ]
    },
    {
      "cell_type": "markdown",
      "metadata": {
        "id": "ZY3l0-AxO93d"
      },
      "source": [
        "---"
      ]
    },
    {
      "cell_type": "code",
      "execution_count": null,
      "metadata": {},
      "outputs": [],
      "source": [
        "corr_spearman_top10 = df_ohe.corr(method='spearman', numeric_only=True)['SalePrice'].sort_values(key=abs, ascending=False)[1:].head(10).to_frame(name=\"Correlation Coefficient\")\n",
        "corr_spearman_top10"
      ]
    },
    {
      "cell_type": "code",
      "execution_count": null,
      "metadata": {},
      "outputs": [],
      "source": [
        "combined_top_features = set(corr_pearson_top10[:5].index.to_list() + corr_spearman_top10[:5].index.to_list())\n",
        "combined_top_features"
      ]
    },
    {
      "cell_type": "markdown",
      "metadata": {},
      "source": [
        "Therefore we will investigate if:\n",
        "\n",
        "* The sale price tends to increase as the first floor square footage increases.\n",
        "* The sale price tends to increase as the size of the garage increases.\n",
        "* The sale price tends to increase as the above-grade living area increases.\n",
        "* The sale price tends to increase as the overall house material and finish of the house improves.\n",
        "* The sale price tends to increase as the total square feet of basement area increases.\n",
        "* The sale price tends to increase with newer construction dates  "
      ]
    },
    {
      "cell_type": "code",
      "execution_count": null,
      "metadata": {},
      "outputs": [],
      "source": [
        "vars_to_study=['1stFlrSF', 'GarageArea', 'GrLivArea', 'OverallQual', 'TotalBsmtSF', 'YearBuilt']\n",
        "vars_to_study"
      ]
    },
    {
      "cell_type": "code",
      "execution_count": null,
      "metadata": {},
      "outputs": [],
      "source": [
        "df_eda_subset = df_house_price_study.filter(vars_to_study + [\"SalePrice\"])\n",
        "df_eda_subset.head()"
      ]
    },
    {
      "cell_type": "code",
      "execution_count": null,
      "metadata": {},
      "outputs": [],
      "source": [
        "sns.set_style('whitegrid')\n",
        "\n",
        "# %matplotlib inline\n",
        "\n",
        "def plot_categorical(df, col, target_var):\n",
        "\n",
        "    plt.figure(figsize=(12, 5))\n",
        "    sns.countplot(data=df, x=col, hue=target_var, order=df[col].value_counts().index)\n",
        "    plt.xticks(rotation=90)\n",
        "    plt.title(f\"{col}\", fontsize=20, y=1.05)\n",
        "    plt.show()\n",
        "    plt.close()\n",
        "\n",
        "\n",
        "def plot_numerical(df, col, target_var):\n",
        "    plt.figure(figsize=(8, 5))\n",
        "    sns.histplot(data=df, x=col, hue=target_var, kde=True, element=\"step\")\n",
        "    plt.title(f\"{col}\", fontsize=20, y=1.05)\n",
        "    plt.show()\n",
        "    plt.close()\n",
        "\n",
        "def plot_numerical_vs_continuous(df, col, target_var):\n",
        "    plt.figure(figsize=(10, 6))\n",
        "\n",
        "    # Option A: Scatter Plot with Regression Line\n",
        "    sns.scatterplot(data=df, x=col, y=target_var, alpha=0.6)\n",
        "    sns.regplot(data=df, x=col, y=target_var, scatter=False, color='red', line_kws={'linestyle':'--'}) # Adds a regression line\n",
        "    plt.title(f'{col} vs. {target_var} (Scatter Plot with Regression Line)', fontsize=16)\n",
        "\n",
        "    # Option B: Joint Plot (provides scatter + marginal distributions)\n",
        "    # Not using within the function, but mentioning as an alternative outside for deeper dives\n",
        "    # g = sns.jointplot(data=df, x=col, y=target_var, kind='reg', height=8)\n",
        "    # g.set_axis_labels(col, target_var, fontsize=12)\n",
        "    # g.fig.suptitle(f'{col} vs. {target_var} (Joint Plot)', y=1.02, fontsize=16) # Title for jointplot\n",
        "\n",
        "    plt.xlabel(col, fontsize=12)\n",
        "    plt.ylabel(target_var, fontsize=12)\n",
        "    plt.grid(True, linestyle='--', alpha=0.7)\n",
        "    plt.tight_layout()\n",
        "    plt.show()\n",
        "    plt.close()\n",
        "\n",
        "# Example usage:\n",
        "# plot_numerical_vs_continuous(df_house_price_study, 'GrLivArea', 'SalePrice')\n",
        "# plot_numerical_vs_continuous(df_house_price_study, 'YearBuilt', 'SalePrice')\n",
        "\n",
        "print(df_eda_subset.head())\n",
        "target_var = 'SalePrice'\n",
        "for col in vars_to_study:\n",
        "    if df_eda_subset[col].dtype == 'object':\n",
        "        plot_categorical(df_eda_subset, col, target_var)\n",
        "        print(\"\\n\\n\")\n",
        "    else:\n",
        "        plot_numerical_vs_continuous(df_eda_subset, col, target_var)\n",
        "        print(\"\\n\\n\")"
      ]
    },
    {
      "cell_type": "markdown",
      "metadata": {},
      "source": [
        "# Parallel Plot with numerical variables"
      ]
    },
    {
      "cell_type": "code",
      "execution_count": null,
      "metadata": {},
      "outputs": [],
      "source": [
        "import plotly.express as px\n",
        "fig = px.parallel_coordinates(df_eda_subset, color=\"SalePrice\",\n",
        "                              dimensions = vars_to_study)\n",
        "fig.show()\n",
        "\n",
        "# px.colors.sequential.swatches() \n",
        "\n",
        "# fig = px.parallel_coordinates(df, color=\"species\", color_continuous_scale='viridis')\n",
        "# fig.show()\n"
      ]
    },
    {
      "cell_type": "markdown",
      "metadata": {},
      "source": [
        "\n",
        "\n",
        "plot them \n",
        "parallel plot\n",
        "Summary observations\n"
      ]
    },
    {
      "cell_type": "markdown",
      "metadata": {
        "id": "uFQo3ycuO-v6"
      },
      "source": [
        "# Conclusions"
      ]
    },
    {
      "cell_type": "markdown",
      "metadata": {},
      "source": [
        "The correlations and plots interpretation converge.\n",
        "\n",
        "* Sale prices are typically higher for homes with larger first-floor square footage.\n",
        "* Sale prices are typically higher for homes with larger garages.\n",
        "* Sale prices are typically higher for homes with larger above-grade living areas.\n",
        "* Sale prices are typically higher when the overall quality of the house's materials and finish improves.\n",
        "* Sale prices are typically higher for homes with larger total basement area.\n",
        "* Sale prices are typically higher for homes that were recently constructed.   "
      ]
    }
  ],
  "metadata": {
    "accelerator": "GPU",
    "colab": {
      "name": "Data Practitioner Jupyter Notebook.ipynb",
      "provenance": [],
      "toc_visible": true
    },
    "kernelspec": {
      "display_name": "3.12.1",
      "language": "python",
      "name": "python3"
    },
    "language_info": {
      "codemirror_mode": {
        "name": "ipython",
        "version": 3
      },
      "file_extension": ".py",
      "mimetype": "text/x-python",
      "name": "python",
      "nbconvert_exporter": "python",
      "pygments_lexer": "ipython3",
      "version": "3.12.1"
    },
    "orig_nbformat": 2
  },
  "nbformat": 4,
  "nbformat_minor": 2
}
